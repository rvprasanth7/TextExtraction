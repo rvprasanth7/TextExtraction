{
 "cells": [
  {
   "cell_type": "markdown",
   "metadata": {},
   "source": [
    "# Text Summarization"
   ]
  },
  {
   "cell_type": "code",
   "execution_count": 1,
   "metadata": {},
   "outputs": [
    {
     "name": "stdout",
     "output_type": "stream",
     "text": [
      "Using matplotlib backend: Qt5Agg\n"
     ]
    }
   ],
   "source": [
    "import re\n",
    "import string\n",
    "import numpy as np\n",
    "import matplotlib.pyplot as plt\n",
    "from nltk import pos_tag\n",
    "from nltk.tokenize import sent_tokenize, word_tokenize\n",
    "from nltk.stem.wordnet import WordNetLemmatizer\n",
    "from nltk.corpus.reader.wordnet import NOUN, VERB, ADJ, ADV\n",
    "from nltk.corpus import brown, stopwords\n",
    "from nltk.cluster.util import cosine_distance\n",
    "from operator import itemgetter\n",
    "%matplotlib"
   ]
  },
  {
   "cell_type": "code",
   "execution_count": 2,
   "metadata": {},
   "outputs": [],
   "source": [
    "sentences = brown.sents('ca01')"
   ]
  },
  {
   "cell_type": "code",
   "execution_count": 3,
   "metadata": {},
   "outputs": [
    {
     "data": {
      "text/plain": [
       "98"
      ]
     },
     "execution_count": 3,
     "metadata": {},
     "output_type": "execute_result"
    }
   ],
   "source": [
    "len(sentences)"
   ]
  },
  {
   "cell_type": "code",
   "execution_count": 4,
   "metadata": {},
   "outputs": [
    {
     "data": {
      "text/plain": [
       "[\"The Fulton County Grand Jury said Friday an investigation of Atlanta's recent primary election produced `` no evidence '' that any irregularities took place .\",\n",
       " \"The jury further said in term-end presentments that the City Executive Committee , which had over-all charge of the election , `` deserves the praise and thanks of the City of Atlanta '' for the manner in which the election was conducted .\",\n",
       " \"The September-October term jury had been charged by Fulton Superior Court Judge Durwood Pye to investigate reports of possible `` irregularities '' in the hard-fought primary which was won by Mayor-nominate Ivan Allen Jr. .\",\n",
       " \"`` Only a relative handful of such reports was received '' , the jury said , `` considering the widespread interest in the election , the number of voters and the size of this city '' .\",\n",
       " \"The jury said it did find that many of Georgia's registration and election laws `` are outmoded or inadequate and often ambiguous '' .\",\n",
       " \"It recommended that Fulton legislators act `` to have these laws studied and revised to the end of modernizing and improving them '' .\",\n",
       " \"The grand jury commented on a number of other topics , among them the Atlanta and Fulton County purchasing departments which it said `` are well operated and follow generally accepted practices which inure to the best interest of both governments '' .\",\n",
       " 'Merger proposed',\n",
       " \"However , the jury said it believes `` these two offices should be combined to achieve greater efficiency and reduce the cost of administration '' .\",\n",
       " \"The City Purchasing Department , the jury said , `` is lacking in experienced clerical personnel as a result of city personnel policies '' .\",\n",
       " \"It urged that the city `` take steps to remedy '' this problem .\",\n",
       " \"Implementation of Georgia's automobile title law was also recommended by the outgoing jury .\",\n",
       " \"It urged that the next Legislature `` provide enabling funds and re-set the effective date so that an orderly implementation of the law may be effected '' .\",\n",
       " \"The grand jury took a swipe at the State Welfare Department's handling of federal funds granted for child welfare services in foster homes .\",\n",
       " \"`` This is one of the major items in the Fulton County general assistance program '' , the jury said , but the State Welfare Department `` has seen fit to distribute these funds through the welfare departments of all the counties in the state with the exception of Fulton County , which receives none of this money .\",\n",
       " \"The jurors said they realize `` a proportionate distribution of these funds might disable this program in our less populous counties '' .\",\n",
       " \"Nevertheless , `` we feel that in the future Fulton County should receive some portion of these available funds '' , the jurors said .\",\n",
       " \"`` Failure to do this will continue to place a disproportionate burden '' on Fulton taxpayers .\",\n",
       " \"The jury also commented on the Fulton ordinary's court which has been under fire for its practices in the appointment of appraisers , guardians and administrators and the awarding of fees and compensation .\",\n",
       " 'Wards protected',\n",
       " \"The jury said it found the court `` has incorporated into its operating procedures the recommendations '' of two previous grand juries , the Atlanta Bar Association and an interim citizens committee .\",\n",
       " \"`` These actions should serve to protect in fact and in effect the court's wards from undue costs and its appointed and elected servants from unmeritorious criticisms '' , the jury said .\",\n",
       " \"Regarding Atlanta's new multi-million-dollar airport , the jury recommended `` that when the new management takes charge Jan. 1 the airport be operated in a manner that will eliminate political influences '' .\",\n",
       " \"The jury did not elaborate , but it added that `` there should be periodic surveillance of the pricing practices of the concessionaires for the purpose of keeping the prices reasonable '' .\",\n",
       " 'Ask jail deputies',\n",
       " 'On other matters , the jury recommended that : ( 1 )',\n",
       " \"Four additional deputies be employed at the Fulton County Jail and `` a doctor , medical intern or extern be employed for night and weekend duty at the jail '' .\",\n",
       " '( 2 )',\n",
       " \"Fulton legislators `` work with city officials to pass enabling legislation that will permit the establishment of a fair and equitable '' pension plan for city employes .\",\n",
       " \"The jury praised the administration and operation of the Atlanta Police Department , the Fulton Tax Commissioner's Office , the Bellwood and Alpharetta prison farms , Grady Hospital and the Fulton Health Department .\",\n",
       " 'Mayor William B. Hartsfield filed suit for divorce from his wife , Pearl Williams Hartsfield , in Fulton Superior Court Friday .',\n",
       " 'His petition charged mental cruelty .',\n",
       " 'The couple was married Aug. 2 , 1913 .',\n",
       " 'They have a son , William Berry Jr. , and a daughter , Mrs. J. M. Cheshire of Griffin .',\n",
       " 'Attorneys for the mayor said that an amicable property settlement has been agreed upon .',\n",
       " \"The petition listed the mayor's occupation as `` attorney '' and his age as 71 .\",\n",
       " \"It listed his wife's age as 74 and place of birth as Opelika , Ala. .\",\n",
       " 'The petition said that the couple has not lived together as man and wife for more than a year .',\n",
       " 'The Hartsfield home is at 637 E. Pelham Rd. Aj .',\n",
       " \"Henry L. Bowden was listed on the petition as the mayor's attorney .\",\n",
       " 'Hartsfield has been mayor of Atlanta , with exception of one brief interlude , since 1937 .',\n",
       " 'His political career goes back to his election to city council in 1923 .',\n",
       " \"The mayor's present term of office expires Jan. 1 .\",\n",
       " 'He will be succeeded by Ivan Allen Jr. , who became a candidate in the Sept. 13 primary after Mayor Hartsfield announced that he would not run for reelection .',\n",
       " \"Georgia Republicans are getting strong encouragement to enter a candidate in the 1962 governor's race , a top official said Wednesday .\",\n",
       " 'Robert Snodgrass , state GOP chairman , said a meeting held Tuesday night in Blue Ridge brought enthusiastic responses from the audience .',\n",
       " 'State Party Chairman James W. Dorsey added that enthusiasm was picking up for a state rally to be held Sept. 8 in Savannah at which newly elected Texas Sen. John Tower will be the featured speaker .',\n",
       " 'In the Blue Ridge meeting , the audience was warned that entering a candidate for governor would force it to take petitions out into voting precincts to obtain the signatures of registered voters .',\n",
       " 'Despite the warning , there was a unanimous vote to enter a candidate , according to Republicans who attended .',\n",
       " 'When the crowd was asked whether it wanted to wait one more term to make the race , it voted no -- and there were no dissents .',\n",
       " 'The largest hurdle the Republicans would have to face is a state law which says that before making a first race , one of two alternative courses must be taken : 1',\n",
       " 'Five per cent of the voters in each county must sign petitions requesting that the Republicans be allowed to place names of candidates on the general election ballot , or 2',\n",
       " 'The Republicans must hold a primary under the county unit system -- a system which the party opposes in its platform .',\n",
       " \"Sam Caldwell , State Highway Department public relations director , resigned Tuesday to work for Lt. Gov. Garland Byrd's campaign .\",\n",
       " \"Caldwell's resignation had been expected for some time .\",\n",
       " 'He will be succeeded by Rob Ledford of Gainesville , who has been an assistant more than three years .',\n",
       " 'When the gubernatorial campaign starts , Caldwell is expected to become a campaign coordinator for Byrd .',\n",
       " 'The Georgia Legislature will wind up its 1961 session Monday and head for home -- where some of the highway bond money it approved will follow shortly .',\n",
       " 'Before adjournment Monday afternoon , the Senate is expected to approve a study of the number of legislators allotted to rural and urban areas to determine what adjustments should be made .',\n",
       " 'Gov. Vandiver is expected to make the traditional visit to both chambers as they work toward adjournment .',\n",
       " 'Vandiver likely will mention the $100 million highway bond issue approved earlier in the session as his first priority item .',\n",
       " 'Construction bonds',\n",
       " 'Meanwhile , it was learned the State Highway Department is very near being ready to issue the first $30 million worth of highway reconstruction bonds .',\n",
       " \"The bond issue will go to the state courts for a friendly test suit to test the validity of the act , and then the sales will begin and contracts let for repair work on some of Georgia's most heavily traveled highways .\",\n",
       " 'A Highway Department source said there also is a plan there to issue some $3 million to $4 million worth of Rural Roads Authority bonds for rural road construction work .',\n",
       " 'A revolving fund',\n",
       " 'The department apparently intends to make the Rural Roads Authority a revolving fund under which new bonds would be issued every time a portion of the old ones are paid off by tax authorities .',\n",
       " 'Vandiver opened his race for governor in 1958 with a battle in the Legislature against the issuance of $50 million worth of additional rural roads bonds proposed by then Gov. Marvin Griffin .',\n",
       " 'The Highway Department source told The Constitution , however , that Vandiver has not been consulted yet about the plans to issue the new rural roads bonds .',\n",
       " \"Schley County Rep. B. D. Pelham will offer a resolution Monday in the House to rescind the body's action of Friday in voting itself a $10 per day increase in expense allowances .\",\n",
       " \"Pelham said Sunday night there was research being done on whether the `` quickie '' vote on the increase can be repealed outright or whether notice would have to first be given that reconsideration of the action would be sought .\",\n",
       " 'While emphasizing that technical details were not fully worked out , Pelham said his resolution would seek to set aside the privilege resolution which the House voted through 87-31 .',\n",
       " 'A similar resolution passed in the Senate by a vote of 29-5 .',\n",
       " 'As of Sunday night , there was no word of a resolution being offered there to rescind the action .',\n",
       " 'Pelham pointed out that Georgia voters last November rejected a constitutional amendment to allow legislators to vote on pay raises for future Legislature sessions .',\n",
       " 'A veteran Jackson County legislator will ask the Georgia House Monday to back federal aid to education , something it has consistently opposed in the past .',\n",
       " \"Rep. Mac Barber of Commerce is asking the House in a privilege resolution to `` endorse increased federal support for public education , provided that such funds be received and expended '' as state funds .\",\n",
       " \"Barber , who is in his 13th year as a legislator , said there `` are some members of our congressional delegation in Washington who would like to see it ( the resolution ) passed '' .\",\n",
       " \"But he added that none of Georgia's congressmen specifically asked him to offer the resolution .\",\n",
       " 'The resolution , which Barber tossed into the House hopper Friday , will be formally read Monday .',\n",
       " \"It says that `` in the event Congress does provide this increase in federal funds '' , the State Board of Education should be directed to `` give priority '' to teacher pay raises .\",\n",
       " 'Colquitt',\n",
       " \"-- After a long , hot controversy , Miller County has a new school superintendent , elected , as a policeman put it , in the `` coolest election I ever saw in this county '' .\",\n",
       " 'The new school superintendent is Harry Davis , a veteran agriculture teacher , who defeated Felix Bush , a school principal and chairman of the Miller County Democratic Executive Committee .',\n",
       " \"Davis received 1,119 votes in Saturday's election , and Bush got 402 .\",\n",
       " 'Ordinary Carey Williams , armed with a pistol , stood by at the polls to insure order .',\n",
       " \"`` This was the coolest , calmest election I ever saw '' , Colquitt Policeman Tom Williams said .\",\n",
       " '`` Being at the polls was just like being at church .',\n",
       " \"I didn't smell a drop of liquor , and we didn't have a bit of trouble '' .\",\n",
       " 'The campaign leading to the election was not so quiet , however .',\n",
       " 'It was marked by controversy , anonymous midnight phone calls and veiled threats of violence .',\n",
       " 'The former county school superintendent , George P. Callan , shot himself to death March 18 , four days after he resigned his post in a dispute with the county school board .',\n",
       " 'During the election campaign , both candidates , Davis and Bush , reportedly received anonymous telephone calls .',\n",
       " 'Ordinary Williams said he , too , was subjected to anonymous calls soon after he scheduled the election .',\n",
       " 'Many local citizens feared that there would be irregularities at the polls , and Williams got himself a permit to carry a gun and promised an orderly election .',\n",
       " 'Sheriff Felix Tabb said the ordinary apparently made good his promise .',\n",
       " \"`` Everything went real smooth '' , the sheriff said .\",\n",
       " \"`` There wasn't a bit of trouble '' .\"]"
      ]
     },
     "execution_count": 4,
     "metadata": {},
     "output_type": "execute_result"
    }
   ],
   "source": [
    "[' '.join(sent) for sent in sentences]"
   ]
  },
  {
   "cell_type": "code",
   "execution_count": 5,
   "metadata": {},
   "outputs": [],
   "source": [
    "class TextCleaner():\n",
    "    \n",
    "    def __init__(self):\n",
    "        self.stop_words = set(stopwords.words(\"english\"))\n",
    "        self.punctuations = set(string.punctuation)\n",
    "        self.pos_tags = {\n",
    "                NOUN: ['NN', 'NNS', 'NNP', 'NNPS', 'PRP', 'PRP$', 'WP', 'WP$'],\n",
    "                VERB: ['VB', 'VBD', 'VBG', 'VBN', 'VBP', 'VBZ'],\n",
    "                ADJ: ['JJ', 'JJR', 'JJS'],\n",
    "                ADV: ['RB', 'RBR', 'RBS', 'WRB']\n",
    "        }\n",
    "\n",
    "\n",
    "    def _remove_stop_words(self, words):\n",
    "        return [w for w in words if w not in self.stop_words]\n",
    "     \n",
    "    \n",
    "    def _remove_regex(self):\n",
    "        self.input_sent = \" \".join([w.lower() for w in self.input_sent])\n",
    "        self.input_sent = re.sub(r\"i'm\", \"i am\", self.input_sent)\n",
    "        self.input_sent = re.sub(r\"he's\", \"he is\", self.input_sent)\n",
    "        self.input_sent = re.sub(r\"she's\", \"she is\", self.input_sent)\n",
    "        self.input_sent = re.sub(r\"that's\", \"that is\", self.input_sent)\n",
    "        self.input_sent = re.sub(r\"what's\", \"what is\", self.input_sent)\n",
    "        self.input_sent = re.sub(r\"where's\", \"where is\", self.input_sent)\n",
    "        self.input_sent = re.sub(r\"\\'ll\", \" will\", self.input_sent)\n",
    "        self.input_sent = re.sub(r\"\\'ve\", \" have\", self.input_sent)\n",
    "        self.input_sent = re.sub(r\"\\'re\", \" are\", self.input_sent)\n",
    "        self.input_sent = re.sub(r\"\\'d\", \" would\", self.input_sent)\n",
    "        self.input_sent = re.sub(r\"won't\", \"will not\", self.input_sent)\n",
    "        self.input_sent = re.sub(r\"can't\", \"cannot\", self.input_sent)\n",
    "        self.input_sent = re.sub(r\"don't\", \"do not\", self.input_sent)\n",
    "        patterns = re.finditer(\"#[\\w]*\", self.input_sent)\n",
    "        for pattern in patterns:\n",
    "            self.input_sent = re.sub(pattern.group().strip(), \"\", self.input_sent)\n",
    "        self.input_sent = \"\".join(ch for ch in self.input_sent if ch not in self.punctuations)\n",
    "    \n",
    "    \n",
    "    def _tokenize(self):\n",
    "        return word_tokenize(self.input_sent)\n",
    "    \n",
    "    \n",
    "    def _process_content_for_pos(self, words):\n",
    "        tagged_words = pos_tag(words)\n",
    "        pos_words = []\n",
    "        for word in tagged_words:\n",
    "            flag = False\n",
    "            for key, value in self.pos_tags.items():\n",
    "                if word[1] in value:\n",
    "                    pos_words.append((word[0], key))\n",
    "                    flag = True\n",
    "                    break\n",
    "            if not flag:\n",
    "                pos_words.append((word[0], NOUN))\n",
    "        return pos_words\n",
    "       \n",
    "                 \n",
    "    def _remove_noise(self):\n",
    "        self._remove_regex()\n",
    "        words = self._tokenize()\n",
    "        noise_free_words = self._remove_stop_words(words)\n",
    "        return noise_free_words\n",
    "    \n",
    "    \n",
    "    def _normalize_text(self, words):\n",
    "        lem = WordNetLemmatizer()\n",
    "        pos_words = self._process_content_for_pos(words)\n",
    "        normalized_words = [lem.lemmatize(w, pos=p) for w, p in pos_words]\n",
    "        return normalized_words\n",
    "    \n",
    "    \n",
    "    def clean_up(self, input_sent):\n",
    "        self.input_sent = input_sent\n",
    "        cleaned_words = self._remove_noise()\n",
    "        cleaned_words = self._normalize_text(cleaned_words)\n",
    "        return cleaned_words"
   ]
  },
  {
   "cell_type": "markdown",
   "metadata": {},
   "source": [
    "## PageRank Algorithm"
   ]
  },
  {
   "cell_type": "code",
   "execution_count": 6,
   "metadata": {},
   "outputs": [],
   "source": [
    "def pagerank(M, eps=1.0e-8, d=0.85):\n",
    "    N = M.shape[1]\n",
    "    v = np.random.rand(N, 1)\n",
    "    v = v / np.linalg.norm(v, 1)\n",
    "    last_v = np.ones((N, 1), dtype=np.float32) * np.inf\n",
    "    M_hat = (d * M) + (((1 - d) / N) * np.ones((N, N), dtype=np.float32))\n",
    "    \n",
    "    while np.linalg.norm(v - last_v, 2) > eps:\n",
    "        last_v = v\n",
    "        v = np.matmul(M_hat, v)\n",
    "    return v"
   ]
  },
  {
   "cell_type": "markdown",
   "metadata": {},
   "source": [
    "### Function to calculate cosine similarity among sentences"
   ]
  },
  {
   "cell_type": "code",
   "execution_count": 7,
   "metadata": {},
   "outputs": [],
   "source": [
    "def sentence_similarity(sent1, sent2):\n",
    "    text_cleaner = TextCleaner()\n",
    "    \n",
    "    sent1 = text_cleaner.clean_up(sent1)\n",
    "    sent2 = text_cleaner.clean_up(sent2)\n",
    "    \n",
    "    all_words = list(set(sent1 + sent2))\n",
    "    \n",
    "    vector1 = [0] * len(all_words)\n",
    "    vector2 = [0] * len(all_words)\n",
    "    \n",
    "    for w in sent1:\n",
    "        vector1[all_words.index(w)] += 1\n",
    "    \n",
    "    for w in sent2:\n",
    "        vector2[all_words.index(w)] += 1\n",
    "    \n",
    "    return 1 - cosine_distance(vector1, vector2)"
   ]
  },
  {
   "cell_type": "markdown",
   "metadata": {},
   "source": [
    "### Similarity Adjacency Matrix for PageRank"
   ]
  },
  {
   "cell_type": "code",
   "execution_count": 11,
   "metadata": {},
   "outputs": [],
   "source": [
    "def build_similarity_matrix(sentences):\n",
    "    S = np.zeros((len(sentences), len(sentences)))\n",
    "    for i in range(len(sentences)):\n",
    "        for j in range(len(sentences)):\n",
    "            if i == j:\n",
    "                continue\n",
    "            else:\n",
    "                S[i][j] = sentence_similarity(sentences[i], sentences[j])\n",
    "    \n",
    "    for i in range(len(S)):\n",
    "        S[i] /= S[i].sum()\n",
    "    return S"
   ]
  },
  {
   "cell_type": "code",
   "execution_count": 12,
   "metadata": {},
   "outputs": [],
   "source": [
    "S = build_similarity_matrix(sentences)"
   ]
  },
  {
   "cell_type": "code",
   "execution_count": 13,
   "metadata": {},
   "outputs": [
    {
     "data": {
      "text/plain": [
       "array([[0.        , 0.03809933, 0.03196713, ..., 0.01191345, 0.01459093,\n",
       "        0.        ],\n",
       "       [0.04793482, 0.        , 0.01714968, ..., 0.01278262, 0.01565545,\n",
       "        0.        ],\n",
       "       [0.07569435, 0.03227618, 0.        , ..., 0.        , 0.        ,\n",
       "        0.        ],\n",
       "       ...,\n",
       "       [0.02576081, 0.02196889, 0.        , ..., 0.        , 0.08413444,\n",
       "        0.        ],\n",
       "       [0.03354197, 0.02860469, 0.        , ..., 0.08944524, 0.        ,\n",
       "        0.        ],\n",
       "       [0.        , 0.        , 0.        , ..., 0.        , 0.        ,\n",
       "        0.        ]])"
      ]
     },
     "execution_count": 13,
     "metadata": {},
     "output_type": "execute_result"
    }
   ],
   "source": [
    "S"
   ]
  },
  {
   "cell_type": "code",
   "execution_count": 14,
   "metadata": {},
   "outputs": [],
   "source": [
    "sentence_ranks = pagerank(S)"
   ]
  },
  {
   "cell_type": "markdown",
   "metadata": {},
   "source": [
    "**Sentence Ranked according to their importance**"
   ]
  },
  {
   "cell_type": "code",
   "execution_count": 15,
   "metadata": {
    "scrolled": true
   },
   "outputs": [
    {
     "data": {
      "text/plain": [
       "array([[0.01994852],\n",
       "       [0.00999149],\n",
       "       [0.00146002],\n",
       "       [0.01123239],\n",
       "       [0.01199025],\n",
       "       [0.01242033],\n",
       "       [0.01287994],\n",
       "       [0.02045695],\n",
       "       [0.004438  ],\n",
       "       [0.0156535 ],\n",
       "       [0.0034714 ],\n",
       "       [0.0034006 ],\n",
       "       [0.00560372],\n",
       "       [0.00459101],\n",
       "       [0.00961182],\n",
       "       [0.01775453],\n",
       "       [0.01078142],\n",
       "       [0.0202485 ],\n",
       "       [0.01011226],\n",
       "       [0.00745932],\n",
       "       [0.01356579],\n",
       "       [0.00430531],\n",
       "       [0.01579955],\n",
       "       [0.01215066],\n",
       "       [0.00972804],\n",
       "       [0.01934347],\n",
       "       [0.00581934],\n",
       "       [0.01106451],\n",
       "       [0.01095853],\n",
       "       [0.00344289],\n",
       "       [0.00228767],\n",
       "       [0.0006165 ],\n",
       "       [0.01527088],\n",
       "       [0.00383506],\n",
       "       [0.0139778 ],\n",
       "       [0.00015244],\n",
       "       [0.01010377],\n",
       "       [0.01387291],\n",
       "       [0.01411138],\n",
       "       [0.0191344 ],\n",
       "       [0.01856596],\n",
       "       [0.00619747],\n",
       "       [0.01827581],\n",
       "       [0.00045634],\n",
       "       [0.01984514],\n",
       "       [0.00799657],\n",
       "       [0.0009061 ],\n",
       "       [0.00857431],\n",
       "       [0.00948847],\n",
       "       [0.01145074],\n",
       "       [0.01227917],\n",
       "       [0.01377555],\n",
       "       [0.01637978],\n",
       "       [0.01468891],\n",
       "       [0.00980177],\n",
       "       [0.01000671],\n",
       "       [0.01133863],\n",
       "       [0.0077705 ],\n",
       "       [0.00758462],\n",
       "       [0.01990724],\n",
       "       [0.01970744],\n",
       "       [0.01763374],\n",
       "       [0.01714802],\n",
       "       [0.00822164],\n",
       "       [0.00993984],\n",
       "       [0.0044429 ],\n",
       "       [0.01764714],\n",
       "       [0.01644962],\n",
       "       [0.00413262],\n",
       "       [0.01189729],\n",
       "       [0.00565802],\n",
       "       [0.01866273],\n",
       "       [0.00909571],\n",
       "       [0.00866415],\n",
       "       [0.00019905],\n",
       "       [0.0001684 ],\n",
       "       [0.01452433],\n",
       "       [0.01100956],\n",
       "       [0.01642391],\n",
       "       [0.01067006],\n",
       "       [0.00130768],\n",
       "       [0.004943  ],\n",
       "       [0.01684679],\n",
       "       [0.01756342],\n",
       "       [0.00340437],\n",
       "       [0.00109204],\n",
       "       [0.00219111],\n",
       "       [0.00774834],\n",
       "       [0.00198928],\n",
       "       [0.00862852],\n",
       "       [0.01445156],\n",
       "       [0.00831259],\n",
       "       [0.01054969],\n",
       "       [0.00884701],\n",
       "       [0.01205468],\n",
       "       [0.009556  ],\n",
       "       [0.00265043],\n",
       "       [0.00723065]])"
      ]
     },
     "execution_count": 15,
     "metadata": {},
     "output_type": "execute_result"
    }
   ],
   "source": [
    "sentence_ranks"
   ]
  },
  {
   "cell_type": "code",
   "execution_count": 16,
   "metadata": {},
   "outputs": [],
   "source": [
    "ranked_sentence_indexes = [item[0] for item in sorted(enumerate(sentence_ranks), key=lambda item: -item[1])]"
   ]
  },
  {
   "cell_type": "code",
   "execution_count": 17,
   "metadata": {},
   "outputs": [
    {
     "data": {
      "text/plain": [
       "[7,\n",
       " 17,\n",
       " 0,\n",
       " 59,\n",
       " 44,\n",
       " 60,\n",
       " 25,\n",
       " 39,\n",
       " 71,\n",
       " 40,\n",
       " 42,\n",
       " 15,\n",
       " 66,\n",
       " 61,\n",
       " 83,\n",
       " 62,\n",
       " 82,\n",
       " 67,\n",
       " 78,\n",
       " 52,\n",
       " 22,\n",
       " 9,\n",
       " 32,\n",
       " 53,\n",
       " 76,\n",
       " 90,\n",
       " 38,\n",
       " 34,\n",
       " 37,\n",
       " 51,\n",
       " 20,\n",
       " 6,\n",
       " 5,\n",
       " 50,\n",
       " 23,\n",
       " 94,\n",
       " 4,\n",
       " 69,\n",
       " 49,\n",
       " 56,\n",
       " 3,\n",
       " 27,\n",
       " 77,\n",
       " 28,\n",
       " 16,\n",
       " 79,\n",
       " 92,\n",
       " 18,\n",
       " 36,\n",
       " 55,\n",
       " 1,\n",
       " 64,\n",
       " 54,\n",
       " 24,\n",
       " 14,\n",
       " 95,\n",
       " 48,\n",
       " 72,\n",
       " 93,\n",
       " 73,\n",
       " 89,\n",
       " 47,\n",
       " 91,\n",
       " 63,\n",
       " 45,\n",
       " 57,\n",
       " 87,\n",
       " 58,\n",
       " 19,\n",
       " 97,\n",
       " 41,\n",
       " 26,\n",
       " 70,\n",
       " 12,\n",
       " 81,\n",
       " 13,\n",
       " 65,\n",
       " 8,\n",
       " 21,\n",
       " 68,\n",
       " 33,\n",
       " 10,\n",
       " 29,\n",
       " 84,\n",
       " 11,\n",
       " 96,\n",
       " 30,\n",
       " 86,\n",
       " 88,\n",
       " 2,\n",
       " 80,\n",
       " 85,\n",
       " 46,\n",
       " 31,\n",
       " 43,\n",
       " 74,\n",
       " 75,\n",
       " 35]"
      ]
     },
     "execution_count": 17,
     "metadata": {},
     "output_type": "execute_result"
    }
   ],
   "source": [
    "ranked_sentence_indexes"
   ]
  },
  {
   "cell_type": "code",
   "execution_count": 45,
   "metadata": {},
   "outputs": [],
   "source": [
    "plt.bar([item[0] for item in sorted(enumerate(sentence_ranks))], sentence_ranks.T[0])\n",
    "plt.xlabel(\"Sentence No.\")\n",
    "plt.ylabel(\"Importance\")\n",
    "plt.show()"
   ]
  },
  {
   "cell_type": "code",
   "execution_count": 46,
   "metadata": {},
   "outputs": [],
   "source": [
    "plt.plot([item[0] for item in sorted(enumerate(sentence_ranks))], sentence_ranks)\n",
    "plt.xlabel(\"Sentence No.\")\n",
    "plt.ylabel(\"Importance\")\n",
    "plt.show()"
   ]
  },
  {
   "cell_type": "code",
   "execution_count": 47,
   "metadata": {},
   "outputs": [],
   "source": [
    "SUMMARY_SIZE = 5"
   ]
  },
  {
   "cell_type": "code",
   "execution_count": 48,
   "metadata": {},
   "outputs": [],
   "source": [
    "selected_sentences = sorted(ranked_sentence_indexes[:SUMMARY_SIZE])"
   ]
  },
  {
   "cell_type": "code",
   "execution_count": 49,
   "metadata": {},
   "outputs": [
    {
     "data": {
      "text/plain": [
       "[0, 33, 58, 90, 93]"
      ]
     },
     "execution_count": 49,
     "metadata": {},
     "output_type": "execute_result"
    }
   ],
   "source": [
    "selected_sentences"
   ]
  },
  {
   "cell_type": "code",
   "execution_count": 50,
   "metadata": {},
   "outputs": [],
   "source": [
    "summary = itemgetter(*selected_sentences)(sentences)"
   ]
  },
  {
   "cell_type": "markdown",
   "metadata": {},
   "source": [
    "**Generated Summary**"
   ]
  },
  {
   "cell_type": "code",
   "execution_count": 51,
   "metadata": {},
   "outputs": [
    {
     "name": "stdout",
     "output_type": "stream",
     "text": [
      "The Fulton County Grand Jury said Friday an investigation of Atlanta's recent primary election produced `` no evidence '' that any irregularities took place .\n",
      "They have a son , William Berry Jr. , and a daughter , Mrs. J. M. Cheshire of Griffin .\n",
      "Before adjournment Monday afternoon , the Senate is expected to approve a study of the number of legislators allotted to rural and urban areas to determine what adjustments should be made .\n",
      "It was marked by controversy , anonymous midnight phone calls and veiled threats of violence .\n",
      "Ordinary Williams said he , too , was subjected to anonymous calls soon after he scheduled the election .\n"
     ]
    }
   ],
   "source": [
    "for sent in summary:\n",
    "    print(' '.join(sent))"
   ]
  },
  {
   "cell_type": "code",
   "execution_count": null,
   "metadata": {},
   "outputs": [],
   "source": []
  }
 ],
 "metadata": {
  "kernelspec": {
   "display_name": "Python 3",
   "language": "python",
   "name": "python3"
  },
  "language_info": {
   "codemirror_mode": {
    "name": "ipython",
    "version": 3
   },
   "file_extension": ".py",
   "mimetype": "text/x-python",
   "name": "python",
   "nbconvert_exporter": "python",
   "pygments_lexer": "ipython3",
   "version": "3.7.1"
  }
 },
 "nbformat": 4,
 "nbformat_minor": 2
}
